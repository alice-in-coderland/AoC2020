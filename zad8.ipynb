{
 "cells": [
  {
   "cell_type": "code",
   "execution_count": 17,
   "metadata": {},
   "outputs": [],
   "source": [
    "infile = open('input_puzzle08.txt')\n",
    "instr_list = infile.read().splitlines()"
   ]
  },
  {
   "cell_type": "code",
   "execution_count": 20,
   "metadata": {},
   "outputs": [
    {
     "name": "stdout",
     "output_type": "stream",
     "text": [
      "acc:  1867\n",
      "i:  520\n",
      "previous i: 367\n"
     ]
    }
   ],
   "source": [
    "ex_no = [0] * len(instr_list)\n",
    "infinite_loop = False\n",
    "acc, i, previ = 0, 0, 0\n",
    "\n",
    "while not infinite_loop:\n",
    "    if ex_no[i] == 1:\n",
    "        print('acc: ', acc)\n",
    "        print('i: ', i)\n",
    "        print('previous i:', previ)\n",
    "        break\n",
    "        \n",
    "    ex_no[i] += 1\n",
    "    instr = instr_list[i]\n",
    "    \n",
    "    if instr[:3] == 'acc':\n",
    "        acc += int(instr[4:])\n",
    "        previ = i\n",
    "        i += 1\n",
    "    elif instr[:3] == 'jmp':\n",
    "        previ = i\n",
    "        i += int(instr[4:])\n",
    "    elif instr[:3] == 'nop': \n",
    "        previ = i\n",
    "        i+=1\n"
   ]
  },
  {
   "cell_type": "code",
   "execution_count": null,
   "metadata": {},
   "outputs": [],
   "source": []
  },
  {
   "cell_type": "code",
   "execution_count": 21,
   "metadata": {},
   "outputs": [
    {
     "name": "stdout",
     "output_type": "stream",
     "text": [
      "FIXED!\n",
      "1303\n"
     ]
    }
   ],
   "source": [
    "def fix_handheld(instructions):\n",
    "    \n",
    "    ex_no = [0] * len(instructions)\n",
    "    infinite_loop = False\n",
    "    acc, i, previ = 0, 0, 0\n",
    "\n",
    "    while not infinite_loop:\n",
    "        if ex_no[i] == 1:\n",
    "            return -1\n",
    "\n",
    "        ex_no[i] += 1\n",
    "        instr = instructions[i]\n",
    "\n",
    "        if instr[:3] == 'acc':\n",
    "            acc += int(instr[4:])\n",
    "            previ = i\n",
    "            i += 1\n",
    "        elif instr[:3] == 'jmp':\n",
    "            previ = i\n",
    "            i += int(instr[4:])\n",
    "        elif instr[:3] == 'nop': \n",
    "            previ = i\n",
    "            i+=1\n",
    "\n",
    "        if i == len(instructions): \n",
    "            print ('FIXED!')\n",
    "            return acc\n",
    "j = 0\n",
    "while j < len(instr_list):\n",
    "    checklist = instr_list.copy()\n",
    "    checklist[j] = checklist[j].replace('jmp', 'nop')\n",
    "    a = fix_handheld(checklist)\n",
    "    if a > 0: print(a)\n",
    "    j+=1"
   ]
  },
  {
   "cell_type": "code",
   "execution_count": null,
   "metadata": {},
   "outputs": [],
   "source": []
  },
  {
   "cell_type": "code",
   "execution_count": null,
   "metadata": {},
   "outputs": [],
   "source": []
  }
 ],
 "metadata": {
  "kernelspec": {
   "display_name": "Python 3",
   "language": "python",
   "name": "python3"
  },
  "language_info": {
   "codemirror_mode": {
    "name": "ipython",
    "version": 3
   },
   "file_extension": ".py",
   "mimetype": "text/x-python",
   "name": "python",
   "nbconvert_exporter": "python",
   "pygments_lexer": "ipython3",
   "version": "3.7.5"
  }
 },
 "nbformat": 4,
 "nbformat_minor": 4
}
