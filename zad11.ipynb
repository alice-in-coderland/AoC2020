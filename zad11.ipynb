{
 "cells": [
  {
   "cell_type": "code",
   "execution_count": null,
   "metadata": {},
   "outputs": [],
   "source": [
    "import numpy as np\n",
    "import scipy.signal as sps"
   ]
  },
  {
   "cell_type": "code",
   "execution_count": null,
   "metadata": {},
   "outputs": [],
   "source": [
    "infile = open('input_puzzle11.txt')\n",
    "seats_list = infile.read().splitlines()\n",
    "seats_list = [elem.replace('L', '1').replace('.','0') for elem in seats_list]"
   ]
  },
  {
   "cell_type": "code",
   "execution_count": null,
   "metadata": {},
   "outputs": [],
   "source": [
    "x = len(seats_list[0])\n",
    "y = len(seats_list)\n",
    "z = 3\n",
    "seats = np.zeros((z, y+2, x+2))"
   ]
  },
  {
   "cell_type": "code",
   "execution_count": null,
   "metadata": {},
   "outputs": [],
   "source": [
    "i = 1\n",
    "while i < y:\n",
    "    j = 1\n",
    "    while j < x:\n",
    "        seats[2, i, j] = int(seats_list[i][j])\n",
    "        j+=1\n",
    "    i+=1\n",
    "\n",
    "#seats[2] - layer with char/nochair\n",
    "#seats[0] - layer with current seating\n",
    "#seats[1] - layer with previous seating"
   ]
  },
  {
   "cell_type": "code",
   "execution_count": null,
   "metadata": {},
   "outputs": [],
   "source": [
    "def take_seats(seats_array):\n",
    "    \n",
    "    fltr = np.ones((3, 3))\n",
    "    fltr[1,1] = 0\n",
    "\n",
    "    current_seats = seats_array[1:y+1, 1:x+1]\n",
    "\n",
    "    seats_around = sps.convolve(current_seats, fltr).astype('int')\n",
    "\n",
    "    new_seat_order = np.zeros((y+2, x+2))\n",
    "\n",
    "    i = 1\n",
    "    while i < y:\n",
    "        j = 1\n",
    "        while j < x:\n",
    "            if (current_seats[i, j] == 0) and (seats_around[i, j] == 0): new_seat_order[i, j] = 1\n",
    "            elif (current_seats[i, j] == 1) and (seats_around[i, j] >=4): new_seat_order[i, j] = 0\n",
    "            else: new_seat_order[i, j] = current_seats[i, j]\n",
    "            j+=1\n",
    "        i+=1\n",
    "\n",
    "    new_seat_order = np.multiply(new_seat_order, seats[2])\n",
    "    return(new_seat_order)"
   ]
  },
  {
   "cell_type": "code",
   "execution_count": null,
   "metadata": {},
   "outputs": [],
   "source": [
    "stable = False\n",
    "i = 0\n",
    "seats[0] = seats[2]\n",
    "while not stable:\n",
    "    i+=1\n",
    "    seats[1] = seats[0]\n",
    "    seats[0] = take_seats(seats[0])\n",
    "    if (seats[0] == seats[1]).all() : \n",
    "        stable = True\n",
    "        print(i)\n",
    "        break\n"
   ]
  },
  {
   "cell_type": "code",
   "execution_count": null,
   "metadata": {},
   "outputs": [],
   "source": [
    "    print(seats[0][1], '\\n\\n', seats[1][1])\n",
    "    input(\"Press Enter to continue...\")"
   ]
  }
 ],
 "metadata": {
  "kernelspec": {
   "display_name": "Python 3",
   "language": "python",
   "name": "python3"
  },
  "language_info": {
   "codemirror_mode": {
    "name": "ipython",
    "version": 3
   },
   "file_extension": ".py",
   "mimetype": "text/x-python",
   "name": "python",
   "nbconvert_exporter": "python",
   "pygments_lexer": "ipython3",
   "version": "3.7.5"
  }
 },
 "nbformat": 4,
 "nbformat_minor": 4
}
