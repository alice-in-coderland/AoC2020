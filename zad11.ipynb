{
 "cells": [
  {
   "cell_type": "code",
   "execution_count": 2,
   "metadata": {},
   "outputs": [
    {
     "name": "stdout",
     "output_type": "stream",
     "text": [
      "2281\n",
      "2085\n"
     ]
    }
   ],
   "source": [
    "### THIS IS NOT MY OWN SOLUTION - I SHAMELESSLY COPIED IT FROM PEOPLE ON THE INTERWEBS\n",
    "\n",
    "\n",
    "from itertools import product, cycle\n",
    "\n",
    "import numpy as np\n",
    "from scipy.ndimage import convolve\n",
    "\n",
    "def check(grid, cols, rows):\n",
    "    for c, r in zip(cols, rows):\n",
    "        k = grid[c, r]\n",
    "        if k in (1,2):\n",
    "            return k-1\n",
    "    return 0\n",
    "\n",
    "def get_neightbors(grid, orig_grid, is_part1):\n",
    "    if is_part1:\n",
    "        kernel = np.ones((3,3), dtype=np.int8)\n",
    "        kernel[1,1] = 0\n",
    "        empty = convolve(orig_grid, kernel, mode=\"constant\", cval=0)\n",
    "        return convolve(grid, kernel, mode=\"constant\", cval=0) - empty\n",
    "    else:\n",
    "        res = np.zeros_like(grid)\n",
    "        col, row = grid.shape\n",
    "        for r, c in product(range(row), range(col)):\n",
    "            if grid[c,r] == 0:\n",
    "                continue\n",
    "            else:\n",
    "                n  = check(grid, cycle([c]),         reversed(range(r)))  # left\n",
    "                n += check(grid, cycle([c]),         range(r+1, row))     # right\n",
    "                n += check(grid, reversed(range(c)), cycle([r]))          # up\n",
    "                n += check(grid, range(c+1, col),    cycle([r]))          # down\n",
    "\n",
    "                n += check(grid, reversed(range(c)), reversed(range(r))) # diag left up\n",
    "                n += check(grid, range(c+1, col),    reversed(range(r))) # diag left down\n",
    "                n += check(grid, reversed(range(c)), range(r+1, row))    # diag right up\n",
    "                n += check(grid, range(c+1, col),    range(r+1, row))    # diag right down\n",
    "\n",
    "                res[c,r] = n\n",
    "\n",
    "        return res\n",
    "\n",
    "with open(\"input_puzzle11.txt\") as f:\n",
    "    rows = []\n",
    "    for x in f:\n",
    "        rows.append([c == \"L\" for c in x.strip()])\n",
    "\n",
    "for is_part1 in [True, False]:\n",
    "\n",
    "    if is_part1:\n",
    "        cutoff = 4\n",
    "    else:\n",
    "        cutoff = 5\n",
    "\n",
    "    grid = np.array(rows).astype(np.int8)\n",
    "    seats = grid.copy()\n",
    "    occ = (grid == 2).sum()\n",
    "\n",
    "    while True:\n",
    "        prev_occ = occ\n",
    "        n = get_neightbors(grid, seats, is_part1)\n",
    "        u = (n == 0).astype(int) - (n >= cutoff).astype(int)\n",
    "        u[grid == 0] = 0\n",
    "        grid = np.clip(grid + u, 0, 2)\n",
    "        grid[grid == 0] = seats[grid == 0]\n",
    "        occ = (grid == 2).sum()\n",
    "        if occ == prev_occ:\n",
    "            break\n",
    "\n",
    "    print(occ)"
   ]
  },
  {
   "cell_type": "code",
   "execution_count": null,
   "metadata": {},
   "outputs": [],
   "source": []
  }
 ],
 "metadata": {
  "kernelspec": {
   "display_name": "Python 3",
   "language": "python",
   "name": "python3"
  },
  "language_info": {
   "codemirror_mode": {
    "name": "ipython",
    "version": 3
   },
   "file_extension": ".py",
   "mimetype": "text/x-python",
   "name": "python",
   "nbconvert_exporter": "python",
   "pygments_lexer": "ipython3",
   "version": "3.7.5"
  }
 },
 "nbformat": 4,
 "nbformat_minor": 4
}
