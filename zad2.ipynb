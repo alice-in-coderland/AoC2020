{
 "cells": [
  {
   "cell_type": "code",
   "execution_count": 3,
   "metadata": {},
   "outputs": [],
   "source": [
    "import pandas as pd"
   ]
  },
  {
   "cell_type": "code",
   "execution_count": 4,
   "metadata": {},
   "outputs": [],
   "source": [
    "pswrds = pd.read_csv('input-2.txt', sep = ' ', header = None)"
   ]
  },
  {
   "cell_type": "code",
   "execution_count": 5,
   "metadata": {},
   "outputs": [],
   "source": [
    "pswrds.rename( columns = { 0: 'range', 1: 'letter', 2: 'pass' }, inplace = True)\n"
   ]
  },
  {
   "cell_type": "code",
   "execution_count": 12,
   "metadata": {},
   "outputs": [],
   "source": [
    "ind = 0\n",
    "correct_passwords = 0\n",
    "while ind < len(pswrds):\n",
    "    low = int(pswrds['range'][ind].split('-')[0])\n",
    "    high = int(pswrds['range'][ind].split('-')[1])\n",
    "    letter = pswrds['letter'][ind].split(':')[0]\n",
    "    freq = pswrds['pass'][ind].count(letter)\n",
    "    if freq >= low:\n",
    "        if freq <= high:\n",
    "            correct_passwords += 1\n",
    "    ind+=1"
   ]
  },
  {
   "cell_type": "code",
   "execution_count": 13,
   "metadata": {},
   "outputs": [
    {
     "data": {
      "text/plain": [
       "548"
      ]
     },
     "execution_count": 13,
     "metadata": {},
     "output_type": "execute_result"
    }
   ],
   "source": [
    "correct_passwords"
   ]
  },
  {
   "cell_type": "code",
   "execution_count": 15,
   "metadata": {},
   "outputs": [],
   "source": [
    "ind = 0\n",
    "correct_passwords = 0\n",
    "while ind < len(pswrds):\n",
    "    pos1 = int(pswrds['range'][ind].split('-')[0])-1\n",
    "    pos2 = int(pswrds['range'][ind].split('-')[1])-1\n",
    "    letter = pswrds['letter'][ind].split(':')[0]\n",
    "    password = pswrds['pass'][ind]\n",
    "    if (password[pos1] == letter) ^ (password[pos2] == letter): correct_passwords += 1\n",
    "    ind+=1"
   ]
  },
  {
   "cell_type": "code",
   "execution_count": 16,
   "metadata": {},
   "outputs": [
    {
     "data": {
      "text/plain": [
       "502"
      ]
     },
     "execution_count": 16,
     "metadata": {},
     "output_type": "execute_result"
    }
   ],
   "source": [
    "correct_passwords"
   ]
  },
  {
   "cell_type": "code",
   "execution_count": null,
   "metadata": {},
   "outputs": [],
   "source": []
  }
 ],
 "metadata": {
  "kernelspec": {
   "display_name": "Python 3",
   "language": "python",
   "name": "python3"
  },
  "language_info": {
   "codemirror_mode": {
    "name": "ipython",
    "version": 3
   },
   "file_extension": ".py",
   "mimetype": "text/x-python",
   "name": "python",
   "nbconvert_exporter": "python",
   "pygments_lexer": "ipython3",
   "version": "3.7.5"
  }
 },
 "nbformat": 4,
 "nbformat_minor": 4
}
