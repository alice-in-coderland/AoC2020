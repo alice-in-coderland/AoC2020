{
 "cells": [
  {
   "cell_type": "code",
   "execution_count": 26,
   "metadata": {},
   "outputs": [
    {
     "name": "stdout",
     "output_type": "stream",
     "text": [
      "138879426\n"
     ]
    }
   ],
   "source": [
    "infile = open('input_puzzle09.txt')\n",
    "xmas = infile.read().splitlines()\n",
    "xmas = [int(item) for item in xmas]\n",
    "\n",
    "preamble = xmas[:25]\n",
    "\n",
    "i = 25\n",
    "my_number = 0\n",
    "\n",
    "while i < len(xmas):\n",
    "    check = False\n",
    "    \n",
    "    for item in preamble:\n",
    "        if ((xmas[i] - item) != item) and ((xmas[i] - item) in preamble): \n",
    "            check = True\n",
    "            preamble[i%25] = xmas[i]\n",
    "            break\n",
    "            \n",
    "    if check == False: \n",
    "        my_number = xmas[i]\n",
    "        print(my_number)\n",
    "        break\n",
    "    \n",
    "    i+=1\n",
    "    "
   ]
  },
  {
   "cell_type": "code",
   "execution_count": 27,
   "metadata": {},
   "outputs": [
    {
     "name": "stdout",
     "output_type": "stream",
     "text": [
      "23761694\n"
     ]
    }
   ],
   "source": [
    "found = False\n",
    "\n",
    "while not found:\n",
    "    for window_length in range(2,len(xmas)):\n",
    "        i = 0\n",
    "        while i < (len(xmas)-window_length):\n",
    "            window_sum = sum(xmas[i:i+window_length])\n",
    "            if window_sum == my_number: \n",
    "                found = True\n",
    "                print(min(xmas[i:i+window_length]) + max(xmas[i:i+window_length]))\n",
    "                break\n",
    "            i+=1"
   ]
  },
  {
   "cell_type": "code",
   "execution_count": null,
   "metadata": {},
   "outputs": [],
   "source": []
  }
 ],
 "metadata": {
  "kernelspec": {
   "display_name": "Python 3",
   "language": "python",
   "name": "python3"
  },
  "language_info": {
   "codemirror_mode": {
    "name": "ipython",
    "version": 3
   },
   "file_extension": ".py",
   "mimetype": "text/x-python",
   "name": "python",
   "nbconvert_exporter": "python",
   "pygments_lexer": "ipython3",
   "version": "3.7.5"
  }
 },
 "nbformat": 4,
 "nbformat_minor": 4
}
