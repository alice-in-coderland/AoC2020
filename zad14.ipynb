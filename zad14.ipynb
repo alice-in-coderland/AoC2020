{
 "cells": [
  {
   "cell_type": "code",
   "execution_count": null,
   "metadata": {},
   "outputs": [],
   "source": [
    "import re\n",
    "infile = open('input_puzzle14.txt')\n",
    "inlist = infile.read().splitlines()\n"
   ]
  },
  {
   "cell_type": "code",
   "execution_count": null,
   "metadata": {},
   "outputs": [],
   "source": [
    "memory = {}\n",
    "def write_mem(mask, address, value):\n",
    "    bin_value = bin(value)[2:]\n",
    "    bin_value = list(bin_value.zfill(len(mask)))\n",
    "    mask_0 = [m.start() for m in re.finditer('0', mask)]\n",
    "    mask_1 = [m.start() for m in re.finditer('1', mask)]    \n",
    "    for index in mask_0: bin_value[index] = '0'\n",
    "    for index in mask_1: bin_value[index] = '1'\n",
    "    memory[address] = int(''.join(bin_value), 2)\n",
    "\n",
    "    \n",
    "i = 0\n",
    "while i < len(inlist):\n",
    "    mask = ''\n",
    "    value = 0\n",
    "    address = ''\n",
    "    if 'mask' in inlist[i]: \n",
    "        mask = inlist[i].split(' ')[2]\n",
    "        i += 1\n",
    "    while i < len(inlist) and 'mem' in inlist[i]:\n",
    "        value = int(inlist[i].split(' ')[2])\n",
    "        address = inlist[i].split('[')[1].split(']')[0]\n",
    "        write_mem(mask, address, value)\n",
    "        i+=1 \n",
    "\n",
    "sum(memory.values())"
   ]
  },
  {
   "cell_type": "code",
   "execution_count": null,
   "metadata": {},
   "outputs": [],
   "source": [
    "memory = {}\n",
    "def write_mem_mk2(mask, address, value):\n",
    "    bin_address = bin(address)[2:]\n",
    "    bin_address = list(bin_address.zfill(len(mask)))\n",
    "    mask_1 = [m.start() for m in re.finditer('1', mask)]\n",
    "    mask_X = [m.start() for m in re.finditer('X', mask)]\n",
    "    \n",
    "    for index in mask_1: bin_address[index]='1'\n",
    "    \n",
    "    i=0\n",
    "    masked_address = bin_address.copy()\n",
    "    while i < 2**len(mask_X):\n",
    "        fl = list((bin(i)[2:]).zfill(len(mask_X)))\n",
    "        for j, index in enumerate(mask_X): masked_address[index] = fl[j]\n",
    "        memory[''.join(masked_address)] = value\n",
    "        i+=1\n",
    "        \n",
    "i = 0\n",
    "while i < len(inlist):\n",
    "    mask = ''\n",
    "    value = 0\n",
    "    address = ''\n",
    "    if 'mask' in inlist[i]: \n",
    "        mask = inlist[i].split(' ')[2]\n",
    "        i += 1\n",
    "    while i < len(inlist) and 'mem' in inlist[i]:\n",
    "        value = int(inlist[i].split(' ')[2])\n",
    "        address = int(inlist[i].split('[')[1].split(']')[0])\n",
    "        write_mem_mk2(mask, address, value)\n",
    "        i+=1      \n",
    "        \n",
    "sum(memory.values())"
   ]
  },
  {
   "cell_type": "code",
   "execution_count": null,
   "metadata": {},
   "outputs": [],
   "source": []
  }
 ],
 "metadata": {
  "kernelspec": {
   "display_name": "Python 3",
   "language": "python",
   "name": "python3"
  },
  "language_info": {
   "codemirror_mode": {
    "name": "ipython",
    "version": 3
   },
   "file_extension": ".py",
   "mimetype": "text/x-python",
   "name": "python",
   "nbconvert_exporter": "python",
   "pygments_lexer": "ipython3",
   "version": "3.7.5"
  }
 },
 "nbformat": 4,
 "nbformat_minor": 4
}
