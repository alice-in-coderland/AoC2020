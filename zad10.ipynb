{
 "cells": [
  {
   "cell_type": "code",
   "execution_count": 54,
   "metadata": {},
   "outputs": [],
   "source": [
    "infile = open('input_puzzle10.txt')\n",
    "adapters = infile.read().splitlines()\n",
    "adapters = [int(item) for item in adapters]\n",
    "adapters.sort()\n",
    "adapters.insert(0,0)\n",
    "adapters.append(max(adapters)+3)"
   ]
  },
  {
   "cell_type": "code",
   "execution_count": 55,
   "metadata": {},
   "outputs": [
    {
     "name": "stdout",
     "output_type": "stream",
     "text": [
      "3000\n"
     ]
    }
   ],
   "source": [
    "i, count1jolts, count3jolts = 0, 0, 0\n",
    "\n",
    "while i < len(adapters):\n",
    "    if (adapters[i] - adapters[i-1]) == 1: count1jolts += 1\n",
    "    elif (adapters[i] - adapters[i-1]) == 3: count3jolts +=1\n",
    "    i+=1\n",
    "\n",
    "print(count1jolts*count3jolts)"
   ]
  },
  {
   "cell_type": "code",
   "execution_count": 68,
   "metadata": {},
   "outputs": [
    {
     "name": "stdout",
     "output_type": "stream",
     "text": [
      "193434623148032\n"
     ]
    }
   ],
   "source": [
    "differences = [adapters[i + 1] - adapters[i] for i in range(len(adapters)-1)]\n",
    "diff_strings = ''.join(map(str, differences)).split('3')\n",
    "\n",
    "how_many_ones = []\n",
    "\n",
    "for elem in diff_strings:\n",
    "    if len(elem) > 0: how_many_ones.append(len(elem)-1)\n",
    "\n",
    "permutations = product([2**elem - int(elem>2) for elem in how_many_ones])\n",
    "\n",
    "print(permutations)"
   ]
  }
 ],
 "metadata": {
  "kernelspec": {
   "display_name": "Python 3",
   "language": "python",
   "name": "python3"
  },
  "language_info": {
   "codemirror_mode": {
    "name": "ipython",
    "version": 3
   },
   "file_extension": ".py",
   "mimetype": "text/x-python",
   "name": "python",
   "nbconvert_exporter": "python",
   "pygments_lexer": "ipython3",
   "version": "3.7.5"
  }
 },
 "nbformat": 4,
 "nbformat_minor": 4
}
