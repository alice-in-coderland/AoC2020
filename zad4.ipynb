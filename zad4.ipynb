{
 "cells": [
  {
   "cell_type": "code",
   "execution_count": 1,
   "metadata": {},
   "outputs": [],
   "source": [
    "import numpy as np\n",
    "import re"
   ]
  },
  {
   "cell_type": "code",
   "execution_count": 2,
   "metadata": {},
   "outputs": [],
   "source": [
    "infile = open('input_puzzle04.txt')"
   ]
  },
  {
   "cell_type": "code",
   "execution_count": 3,
   "metadata": {},
   "outputs": [],
   "source": [
    "inlist = infile.readlines()"
   ]
  },
  {
   "cell_type": "code",
   "execution_count": 4,
   "metadata": {},
   "outputs": [],
   "source": [
    "keys = ['byr', 'iyr', 'eyr', 'hgt', 'hcl', 'ecl', 'pid']"
   ]
  },
  {
   "cell_type": "code",
   "execution_count": 5,
   "metadata": {},
   "outputs": [
    {
     "name": "stdout",
     "output_type": "stream",
     "text": [
      "200\n"
     ]
    }
   ],
   "source": [
    "#cz1\n",
    "i = 0\n",
    "count = 0\n",
    "pass_dict = dict.fromkeys(keys, 0)\n",
    "while i < len(inlist):\n",
    "    if inlist[i] != '\\n': \n",
    "        for key in keys:\n",
    "            if key in inlist[i]: pass_dict[key] = 1\n",
    "        i += 1\n",
    "    else:\n",
    "        if 0 not in pass_dict.values(): count += 1\n",
    "        pass_dict = dict.fromkeys(keys, 0)\n",
    "        i += 1\n",
    "print(count)"
   ]
  },
  {
   "cell_type": "code",
   "execution_count": 6,
   "metadata": {},
   "outputs": [
    {
     "data": {
      "text/plain": [
       "116"
      ]
     },
     "execution_count": 6,
     "metadata": {},
     "output_type": "execute_result"
    }
   ],
   "source": [
    "#cz2\n",
    "i = 0\n",
    "pass_dict = dict.fromkeys(keys, np.NaN)\n",
    "allowed = re.compile(r'[^a-f0-9]')\n",
    "ecls = {'amb', 'blu', 'brn', 'gry', 'grn', 'hzl', 'oth'}\n",
    "count = 0\n",
    "while i < len(inlist):\n",
    "    if inlist[i] != '\\n': \n",
    "        splitlist = inlist[i].rstrip().split(' ')\n",
    "        for elem in splitlist:\n",
    "            [key, val] = elem.split(':')\n",
    "            if key != 'cid' and key in inlist[i]: \n",
    "                \n",
    "                if (key == 'byr') and (1920 <= int(val) <= 2002): pass_dict[key] = val\n",
    "                    \n",
    "                elif (key == 'iyr') and (2010 <= int(val) <= 2020): pass_dict[key] = val\n",
    "                    \n",
    "                elif (key == 'eyr') and (2020 <= int(val) <= 2030): pass_dict[key] = val\n",
    "                    \n",
    "                elif (key == 'hgt'):\n",
    "                    if 'cm' in val:\n",
    "                        hgtval = val.split('cm')[0]  \n",
    "                        if 150 <= int(hgtval) <= 193: pass_dict[key] = val \n",
    "                    elif 'in' in val:\n",
    "                        hgtval = val.split('in')[0]   \n",
    "                        if 59 <= int(hgtval) <= 76: pass_dict[key] = val \n",
    "                            \n",
    "                elif (key == 'hcl') and (val[0] == '#' and len(val) == 7):\n",
    "                    check = allowed.search(val[1:7])\n",
    "                    if not bool(check): pass_dict[key] = val\n",
    "                        \n",
    "                elif (key == 'ecl'):\n",
    "                    if val in ecls: pass_dict[key] = val \n",
    "                    \n",
    "                elif (key == 'pid') and (len(val) == 9):\n",
    "                    if val.isdigit(): pass_dict[key] = val \n",
    "                    \n",
    "                else: pass_dict[key] = np.NaN\n",
    "\n",
    "        i += 1\n",
    "    else:\n",
    "        if np.NaN not in pass_dict.values() : count +=1\n",
    "        pass_dict = dict.fromkeys(keys, np.NaN)\n",
    "        i += 1\n",
    "count"
   ]
  },
  {
   "cell_type": "code",
   "execution_count": null,
   "metadata": {},
   "outputs": [],
   "source": []
  }
 ],
 "metadata": {
  "kernelspec": {
   "display_name": "Python 3",
   "language": "python",
   "name": "python3"
  },
  "language_info": {
   "codemirror_mode": {
    "name": "ipython",
    "version": 3
   },
   "file_extension": ".py",
   "mimetype": "text/x-python",
   "name": "python",
   "nbconvert_exporter": "python",
   "pygments_lexer": "ipython3",
   "version": "3.7.5"
  }
 },
 "nbformat": 4,
 "nbformat_minor": 4
}
