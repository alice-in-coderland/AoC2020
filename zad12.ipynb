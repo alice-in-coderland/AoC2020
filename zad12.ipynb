{
 "cells": [
  {
   "cell_type": "code",
   "execution_count": 1,
   "metadata": {},
   "outputs": [],
   "source": [
    "infile = open('input_puzzle12.txt')\n",
    "instructions = infile.read().splitlines()\n",
    "actions = [item[0] for item in instructions]\n",
    "values = [int(item[1:]) for item in instructions]\n",
    "faces = ['E', 'S', 'W', 'N']"
   ]
  },
  {
   "cell_type": "code",
   "execution_count": 2,
   "metadata": {},
   "outputs": [
    {
     "data": {
      "text/plain": [
       "1007"
      ]
     },
     "execution_count": 2,
     "metadata": {},
     "output_type": "execute_result"
    }
   ],
   "source": [
    "#cz1\n",
    "face = faces[0]\n",
    "coordinates = [0, 0]\n",
    "\n",
    "def move(direction, index):\n",
    "    if direction == 'E':\n",
    "        coordinates[0] -= values[index]\n",
    "    elif direction == 'S':\n",
    "        coordinates[1] += values[index]\n",
    "    elif direction == 'W':\n",
    "        coordinates[0] += values[index]\n",
    "    elif direction == 'N':\n",
    "        coordinates[1] -= values[index]\n",
    "\n",
    "for i, action in enumerate(actions):\n",
    "    if action == 'L': face = faces[(faces.index(face)+int(values[i]/90))%4]\n",
    "    elif action == 'R': face = faces[(faces.index(face)-int(values[i]/90))%4]\n",
    "    elif action == 'F':\n",
    "        move(face, i)\n",
    "    else: move(action, i)\n",
    "\n",
    "abs(coordinates[0])+abs(coordinates[1])   "
   ]
  },
  {
   "cell_type": "code",
   "execution_count": 3,
   "metadata": {},
   "outputs": [
    {
     "data": {
      "text/plain": [
       "41212"
      ]
     },
     "execution_count": 3,
     "metadata": {},
     "output_type": "execute_result"
    }
   ],
   "source": [
    "#cz2\n",
    "wayp  = [10, 1]\n",
    "ship = [0, 0]\n",
    "\n",
    "def rotate(coords, direction, angle):\n",
    "    #default left rotation\n",
    "    param = [-1, 1]\n",
    "    if direction == 'R': param = [1, -1]\n",
    "    \n",
    "    how_many_times = int(angle/90)\n",
    "    i = 1\n",
    "    while i <= how_many_times:\n",
    "        coords = [coords[1]*param[0], coords[0]*param[1]]\n",
    "        i+=1       \n",
    "    return coords\n",
    "    \n",
    "    \n",
    "def move_waypoint(action, index, waypoint_coords, ship_coords):\n",
    "    wayp_relative = [(waypoint_coords[0]-ship_coords[0]), (waypoint_coords[1]-ship_coords[1])]\n",
    "    i=0\n",
    "    if action in ['L', 'R']:\n",
    "        wayp_relative = rotate(wayp_relative, action, values[index])\n",
    "    elif action == 'E':\n",
    "        wayp_relative[0] += values[index]\n",
    "    elif action == 'S':\n",
    "        wayp_relative[1] -= values[index]\n",
    "    elif action == 'W':\n",
    "        wayp_relative[0] -= values[index]\n",
    "    elif action == 'N':\n",
    "        wayp_relative[1] += values[index]\n",
    "    \n",
    "    waypoint_coords = [(wayp_relative[0]+ship_coords[0]), (wayp_relative[1]+ship_coords[1])]\n",
    "    return waypoint_coords\n",
    "    \n",
    "for i, action in enumerate(actions):\n",
    "    if action == 'F':\n",
    "        movement = [(c_w-c_sh)*values[i] for c_w, c_sh in zip(wayp, ship)]\n",
    "        ship = [c_sh + mov for c_sh, mov in zip(ship, movement)]\n",
    "        wayp = [c_w + mov for c_w, mov in zip(wayp, movement)]\n",
    "    else: wayp = move_waypoint(action, i, wayp, ship)\n",
    "\n",
    "abs(ship[0])+abs(ship[1])\n",
    "    "
   ]
  },
  {
   "cell_type": "code",
   "execution_count": null,
   "metadata": {},
   "outputs": [],
   "source": []
  }
 ],
 "metadata": {
  "kernelspec": {
   "display_name": "Python 3",
   "language": "python",
   "name": "python3"
  },
  "language_info": {
   "codemirror_mode": {
    "name": "ipython",
    "version": 3
   },
   "file_extension": ".py",
   "mimetype": "text/x-python",
   "name": "python",
   "nbconvert_exporter": "python",
   "pygments_lexer": "ipython3",
   "version": "3.7.5"
  }
 },
 "nbformat": 4,
 "nbformat_minor": 4
}
