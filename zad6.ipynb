{
 "cells": [
  {
   "cell_type": "code",
   "execution_count": null,
   "metadata": {},
   "outputs": [],
   "source": [
    "infile = open('input_puzzle06.txt')\n",
    "inlist = infile.read().splitlines()\n",
    "inlist.append('')"
   ]
  },
  {
   "cell_type": "code",
   "execution_count": null,
   "metadata": {},
   "outputs": [],
   "source": [
    "#cz1\n",
    "i = 0\n",
    "count = 0\n",
    "temp = ''\n",
    "while i < len(inlist):\n",
    "    if inlist[i] != '': \n",
    "        temp += inlist[i]\n",
    "    else:\n",
    "        count += len(set(temp))\n",
    "        temp = ''\n",
    "    i += 1\n",
    "print('count = ', count)"
   ]
  },
  {
   "cell_type": "code",
   "execution_count": null,
   "metadata": {},
   "outputs": [],
   "source": [
    "#cz2\n",
    "i = 0\n",
    "count = 0\n",
    "personspergroup = 0\n",
    "temp = ''\n",
    "while i < len(inlist):\n",
    "    if inlist[i] != '': \n",
    "        temp += inlist[i]\n",
    "        personspergroup += 1      \n",
    "    else:\n",
    "        for elem in temp:\n",
    "            if (temp.count(elem)) == personspergroup:\n",
    "                count += 1\n",
    "                temp = temp.replace(elem, '')\n",
    "        temp = ''\n",
    "        personspergroup = 0\n",
    "    i += 1\n",
    "print('count = ', count)"
   ]
  },
  {
   "cell_type": "code",
   "execution_count": null,
   "metadata": {},
   "outputs": [],
   "source": []
  }
 ],
 "metadata": {
  "kernelspec": {
   "display_name": "Python 3",
   "language": "python",
   "name": "python3"
  },
  "language_info": {
   "codemirror_mode": {
    "name": "ipython",
    "version": 3
   },
   "file_extension": ".py",
   "mimetype": "text/x-python",
   "name": "python",
   "nbconvert_exporter": "python",
   "pygments_lexer": "ipython3",
   "version": "3.7.5"
  }
 },
 "nbformat": 4,
 "nbformat_minor": 4
}
