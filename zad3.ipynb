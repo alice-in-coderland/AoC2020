{
 "cells": [
  {
   "cell_type": "code",
   "execution_count": 1,
   "metadata": {},
   "outputs": [],
   "source": [
    "import pandas as pd\n",
    "import numpy as np"
   ]
  },
  {
   "cell_type": "code",
   "execution_count": 2,
   "metadata": {},
   "outputs": [],
   "source": [
    "map_fragment = pd.read_csv('input_puzzle03.txt', header = None)"
   ]
  },
  {
   "cell_type": "code",
   "execution_count": 3,
   "metadata": {},
   "outputs": [],
   "source": [
    "map_width = len(map_fragment[0].iloc[15])\n",
    "map_height = len(map_fragment)\n",
    "coords = [0, 0]"
   ]
  },
  {
   "cell_type": "code",
   "execution_count": 4,
   "metadata": {},
   "outputs": [
    {
     "name": "stdout",
     "output_type": "stream",
     "text": [
      "187\n"
     ]
    }
   ],
   "source": [
    "i = 1\n",
    "trees = 0\n",
    "while i < map_height:\n",
    "    coords = [i, (3*i)%map_width]\n",
    "    if map_fragment[0].iloc[coords[0]][coords[1]] == '#': trees += 1\n",
    "    i += 1\n",
    "    \n",
    "print(trees)"
   ]
  },
  {
   "cell_type": "code",
   "execution_count": 5,
   "metadata": {},
   "outputs": [
    {
     "data": {
      "text/plain": [
       "4723283400"
      ]
     },
     "execution_count": 5,
     "metadata": {},
     "output_type": "execute_result"
    }
   ],
   "source": [
    "i = 1\n",
    "\n",
    "coordinates = [[0, 0], [0, 0], [0, 0], [0, 0]]\n",
    "crdskip = [0,0]\n",
    "trees = [0, 0, 0, 0, 0]\n",
    "\n",
    "while i < map_height:\n",
    "    for ind, coord in enumerate(coordinates):    \n",
    "        coord = [i, ((2*ind+1)*i)%map_width]\n",
    "        if map_fragment[0].iloc[coord[0]][coord[1]] == '#': trees[ind] += 1\n",
    "    \n",
    "    if not (i%2): \n",
    "        crdskip = [i, int(i/2)%map_width]\n",
    "        if map_fragment[0].iloc[crdskip[0]][crdskip[1]] == '#': trees[4] += 1\n",
    "    i += 1\n",
    "    \n",
    "np.prod(trees)"
   ]
  },
  {
   "cell_type": "code",
   "execution_count": null,
   "metadata": {},
   "outputs": [],
   "source": []
  }
 ],
 "metadata": {
  "kernelspec": {
   "display_name": "Python 3",
   "language": "python",
   "name": "python3"
  },
  "language_info": {
   "codemirror_mode": {
    "name": "ipython",
    "version": 3
   },
   "file_extension": ".py",
   "mimetype": "text/x-python",
   "name": "python",
   "nbconvert_exporter": "python",
   "pygments_lexer": "ipython3",
   "version": "3.7.5"
  }
 },
 "nbformat": 4,
 "nbformat_minor": 4
}
