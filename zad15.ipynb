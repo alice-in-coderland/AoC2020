{
 "cells": [
  {
   "cell_type": "code",
   "execution_count": null,
   "metadata": {},
   "outputs": [],
   "source": [
    "numbers = [14,8,16,0,1]\n",
    "last_spoken_number = 17\n",
    "for i in range(len(numbers)+1, 2020):\n",
    "    new_number = 0\n",
    "    if last_spoken_number in numbers: new_number = (numbers[::-1].index(last_spoken_number)+1)\n",
    "    numbers.append(last_spoken_number)\n",
    "    last_spoken_number = new_number\n",
    "    i+=1\n",
    "last_spoken_number"
   ]
  },
  {
   "cell_type": "code",
   "execution_count": null,
   "metadata": {},
   "outputs": [],
   "source": [
    "numbers = {14 : 1, 8 : 2, 16 : 3, 0 : 4, 1 : 5}\n",
    "last_spoken_number = 17\n",
    "for i in range(len(numbers)+1, 30000000):\n",
    "    new_number=0\n",
    "    if last_spoken_number in numbers:\n",
    "        new_number = i - numbers[last_spoken_number]\n",
    "    numbers[last_spoken_number] = i\n",
    "    last_spoken_number = new_number\n",
    "last_spoken_number"
   ]
  }
 ],
 "metadata": {
  "kernelspec": {
   "display_name": "Python 3",
   "language": "python",
   "name": "python3"
  },
  "language_info": {
   "codemirror_mode": {
    "name": "ipython",
    "version": 3
   },
   "file_extension": ".py",
   "mimetype": "text/x-python",
   "name": "python",
   "nbconvert_exporter": "python",
   "pygments_lexer": "ipython3",
   "version": "3.7.5"
  }
 },
 "nbformat": 4,
 "nbformat_minor": 4
}
